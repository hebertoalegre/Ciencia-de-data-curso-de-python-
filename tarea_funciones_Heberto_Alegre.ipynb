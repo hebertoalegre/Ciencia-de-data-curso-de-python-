{
 "cells": [
  {
   "cell_type": "markdown",
   "metadata": {},
   "source": [
    "#### Universidad Galileo\n",
    "####  Facultad de Ingeniería \n",
    "####  Maestría en Ciencia de Datos \n",
    "####  Ciencia de Datos en Python\n",
    "\n",
    "* Heberto José Alegre Ordóñez\n",
    "\n",
    "\n",
    "# Funciones en Python\n",
    "\n",
    "Para poder ejecutar funciones en el Python 3 se debe de utilizar la palabra reservada  **def**. A esta debe seguirle el nombre de la función y la lista de parámetros formales entre paréntesis. \n",
    "\n",
    "Las sentencias que forman el cuerpo de la función empiezan en la línea siguiente, y deben estar con sangría:\n",
    "\n",
    "  * La primer sentencia del cuerpo de la función puede ser opcionalmente una cadena de texto literal; \n",
    "  * La ejecución de una función introduce una nueva tabla de símbolos usada para las variables locales de la función. Más precisamente, todas las asignaciones de variables en la función almacenan el valor en la tabla de símbolos local; así mismo la referencia a variables primero mira la tabla de símbolos local, luego en la tabla de símbolos local de las funciones externas, luego la tabla de símbolos global, y finalmente la tabla de nombres predefinidos. Así, no se les puede asignar directamente un valor a las variables globales dentro de una función (a menos se las nombre en la sentencia global), aunque si pueden ser referenciadas. \n",
    "  * Los parámetros reales (argumentos) de una función se introducen en la tabla de símbolos local de la función llamada cuando esta es ejecutada; así, los argumentos son pasados por valor (dónde el valor es siempre una referencia a un objeto, no el valor del objeto).\n",
    "  * Cuando una función llama a otra función, una nueva tabla de símbolos local es creada para esa llamada.\n",
    "\n"
   ]
  },
  {
   "cell_type": "code",
   "execution_count": 87,
   "metadata": {},
   "outputs": [],
   "source": [
    "#Por ejemplo podemos definir la función como: \n",
    "def suma(x,y):\n",
    "    \"La función sumará los valores x y y que reciba como argumentos\"\n",
    "    return x+y"
   ]
  },
  {
   "cell_type": "code",
   "execution_count": 12,
   "metadata": {},
   "outputs": [
    {
     "data": {
      "text/plain": [
       "6"
      ]
     },
     "execution_count": 12,
     "metadata": {},
     "output_type": "execute_result"
    }
   ],
   "source": [
    "#Para llamar la función se debe de: \n",
    "suma(2,4)"
   ]
  },
  {
   "cell_type": "markdown",
   "metadata": {},
   "source": [
    "Una opción importante para las funciones es el comando help, el cual permite determinar la documentación de la función definida "
   ]
  },
  {
   "cell_type": "code",
   "execution_count": 13,
   "metadata": {},
   "outputs": [
    {
     "name": "stdout",
     "output_type": "stream",
     "text": [
      "Help on function suma in module __main__:\n",
      "\n",
      "suma(x, y)\n",
      "    La función sumará los valores x y y que reciba como argumentos\n",
      "\n"
     ]
    }
   ],
   "source": [
    "#Por ejemplo para la función definida como \"Suma\"\n",
    "help(suma)"
   ]
  },
  {
   "cell_type": "markdown",
   "metadata": {},
   "source": [
    "### Parámetros posicionales \n",
    "\n",
    "Esta condición se basa en la propiedad **no conmutativa** de la arimética; donde el orden de los parámetros si altera el resultado. A continuación se puede observar esta propiedad: "
   ]
  },
  {
   "cell_type": "code",
   "execution_count": 86,
   "metadata": {},
   "outputs": [],
   "source": [
    "# Definición de la función resta\n",
    "def resta(x,y):\n",
    "    \"La función restará los valores del minuendo x y el sustraendo y que reciba como argumentos\"\n",
    "    return x-y\n"
   ]
  },
  {
   "cell_type": "code",
   "execution_count": 19,
   "metadata": {},
   "outputs": [
    {
     "name": "stdout",
     "output_type": "stream",
     "text": [
      "Help on function resta in module __main__:\n",
      "\n",
      "resta(x, y)\n",
      "    La función restará los valores del minuendo x y el sustraendo y que reciba como argumentos\n",
      "\n"
     ]
    }
   ],
   "source": [
    "help(resta)"
   ]
  },
  {
   "cell_type": "code",
   "execution_count": null,
   "metadata": {},
   "outputs": [],
   "source": [
    "# Intercalando los parámetros se puede observar que los resultados no son lo mismo.\n",
    "[resta(8,4), resta(4,8)]"
   ]
  },
  {
   "cell_type": "markdown",
   "metadata": {},
   "source": [
    "### Parámetros nombrados\n",
    "\n",
    "Para evitar problemas de definición de argumentos que alteren los resultados, se puede realizar una definición de las variables, de tal manera que se le asigna un valor al argumento **x** y uno al agumento  **y**. \n"
   ]
  },
  {
   "cell_type": "code",
   "execution_count": 37,
   "metadata": {},
   "outputs": [
    {
     "data": {
      "text/plain": [
       "-12"
      ]
     },
     "execution_count": 37,
     "metadata": {},
     "output_type": "execute_result"
    }
   ],
   "source": [
    "# Observe  como se asigna la definición: \n",
    "def resta(x,y):\n",
    "    return x-y\n",
    "x=3\n",
    "y=5*x\n",
    "\n",
    "resta(x,y)\n"
   ]
  },
  {
   "cell_type": "code",
   "execution_count": 38,
   "metadata": {},
   "outputs": [
    {
     "data": {
      "text/plain": [
       "-12"
      ]
     },
     "execution_count": 38,
     "metadata": {},
     "output_type": "execute_result"
    }
   ],
   "source": [
    "# Que es igual a \n",
    "\n",
    "resta(x=3,y=)"
   ]
  },
  {
   "cell_type": "code",
   "execution_count": 42,
   "metadata": {},
   "outputs": [
    {
     "data": {
      "text/plain": [
       "[-12, -12]"
      ]
     },
     "execution_count": 42,
     "metadata": {},
     "output_type": "execute_result"
    }
   ],
   "source": [
    "# De manera conjunta se puede escribir como\n",
    "\n",
    "[resta(x,y), resta(-3,9)]"
   ]
  },
  {
   "cell_type": "markdown",
   "metadata": {},
   "source": [
    "### Retorno de múltiples valores\n",
    "\n",
    "Para llevar a cabo un retorno de múltiples valores observe por ejemplo, la función:"
   ]
  },
  {
   "cell_type": "code",
   "execution_count": 85,
   "metadata": {},
   "outputs": [],
   "source": [
    "# Función  de suma y resta combinada\n",
    "def sumarestacombinada(x,y):\n",
    "    \"Esta función devuelve la suma y la resta, respectivamente, de los argumentos x y y.\"\n",
    "    return [x+y, x-y]"
   ]
  },
  {
   "cell_type": "code",
   "execution_count": 49,
   "metadata": {},
   "outputs": [
    {
     "name": "stdout",
     "output_type": "stream",
     "text": [
      "Help on function sumarestacombinada in module __main__:\n",
      "\n",
      "sumarestacombinada(x, y)\n",
      "    Esta función devuelve la suma y la resta, respectivamente, de los argumentos x y y.\n",
      "\n"
     ]
    }
   ],
   "source": [
    "help(sumarestacombinada)"
   ]
  },
  {
   "cell_type": "code",
   "execution_count": 59,
   "metadata": {},
   "outputs": [
    {
     "data": {
      "text/plain": [
       "[13, -5]"
      ]
     },
     "execution_count": 59,
     "metadata": {},
     "output_type": "execute_result"
    }
   ],
   "source": [
    "# si definimos como: \n",
    "\n",
    "x=4\n",
    "y=9\n",
    "\n",
    "# calculamos por aparte y la suma \n",
    "\n",
    "[suma(x,y),resta(x,y)]\n",
    "\n"
   ]
  },
  {
   "cell_type": "code",
   "execution_count": 56,
   "metadata": {},
   "outputs": [
    {
     "data": {
      "text/plain": [
       "[13, -5]"
      ]
     },
     "execution_count": 56,
     "metadata": {},
     "output_type": "execute_result"
    }
   ],
   "source": [
    "# pero utilizando la función definida, la suma y resta combinda nos quedaría de la siguiente manera :\n",
    "\n",
    "sumarestacombinada(x,y)"
   ]
  },
  {
   "cell_type": "markdown",
   "metadata": {},
   "source": [
    "\n",
    "### Funciones como objetos y como parámetros de otras funciones\n",
    "\n",
    "Las funciones son objetos de tipo 'function' y pueden servir como argumentos para otras funciones. Por ejemplo observe que: "
   ]
  },
  {
   "cell_type": "code",
   "execution_count": 83,
   "metadata": {},
   "outputs": [
    {
     "data": {
      "text/plain": [
       "[function, function, function]"
      ]
     },
     "execution_count": 83,
     "metadata": {},
     "output_type": "execute_result"
    }
   ],
   "source": [
    "# Determinamos el tipo función de cada una de las funciones realizadas \n",
    "[type(suma), type(resta), type(sumarestacombinada)]\n",
    "\n"
   ]
  },
  {
   "cell_type": "code",
   "execution_count": 88,
   "metadata": {},
   "outputs": [
    {
     "data": {
      "text/plain": [
       "[38, -20, [38, -20]]"
      ]
     },
     "execution_count": 88,
     "metadata": {},
     "output_type": "execute_result"
    }
   ],
   "source": [
    "# Se utiliza la funcion 'operar' para que reciba una función, tambien se agrega el argumento fn, para ue utilice cualquier función previament definida.\n",
    "\n",
    "def operar(fn, x, y):\n",
    "    return fn(x,y)\n",
    "\n",
    "# Si definimos  \n",
    "\n",
    "x=9\n",
    "y=3*x+2\n",
    "\n",
    "# Si quisiéramos calcular la suma de los valores x y y:\n",
    "[operar(suma, x, y), operar(resta, x, y), operar(sumarestacombinada, x, y)]"
   ]
  },
  {
   "cell_type": "markdown",
   "metadata": {},
   "source": [
    "### Funciones anónimas o lambda\n",
    "\n",
    "\n",
    "Estas funciones son llamadas anónimas porque no se utiliza la palabra reservada 'def'. En vez, se utiliza la palabra reservada 'lambda' para indicar que vamos a definir una pequeña función anónima. Donde: \n",
    "\n",
    "* Las funciones pueden tomar cualquier argumento \n",
    "\n",
    "* No pueden acceder a otras variables o expresiones fuera de las que están listadas en sus parámetros y en el ambiente global.\n"
   ]
  },
  {
   "cell_type": "code",
   "execution_count": 79,
   "metadata": {},
   "outputs": [],
   "source": [
    "# Se desea sumar, restar y  multiplicar y diviidr  x, y, z\n",
    "\n",
    "suma=lambda x, y, z : x+y+2*z\n",
    "\n",
    "resta=lambda x, y, z : 5*x-y-2*z\n",
    "\n",
    "multi = lambda x, y, z : x* 2*y*z\n",
    "\n",
    "divi=lambda x, y, z : x/y +x/z\n",
    "\n",
    "# Si definiimos \n",
    "\n",
    "x=2\n",
    "y=6/x\n",
    "z=x+y\n",
    "\n"
   ]
  },
  {
   "cell_type": "code",
   "execution_count": 80,
   "metadata": {},
   "outputs": [
    {
     "data": {
      "text/plain": [
       "[15.0, -3.0, 60.0, 1.0666666666666667]"
      ]
     },
     "execution_count": 80,
     "metadata": {},
     "output_type": "execute_result"
    }
   ],
   "source": [
    "# Y podemos llamar a la función como a cualquier otra\n",
    "[suma(x, y, z), resta(x, y, z), multi(x, y, z), divi(x, y, z,)]"
   ]
  }
 ],
 "metadata": {
  "kernelspec": {
   "display_name": "Python 3",
   "language": "python",
   "name": "python3"
  },
  "language_info": {
   "codemirror_mode": {
    "name": "ipython",
    "version": 3
   },
   "file_extension": ".py",
   "mimetype": "text/x-python",
   "name": "python",
   "nbconvert_exporter": "python",
   "pygments_lexer": "ipython3",
   "version": "3.7.1"
  }
 },
 "nbformat": 4,
 "nbformat_minor": 2
}
