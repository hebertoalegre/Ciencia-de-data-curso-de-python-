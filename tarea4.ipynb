{
 "cells": [
  {
   "cell_type": "markdown",
   "metadata": {},
   "source": [
    " # Ciencia de datos en Python\n",
    "## Heberto Jose Alegre Ordoñez\n",
    "    \n",
    "  **Diferencia entre np. matrix y np.ndarray** \n",
    "    "
   ]
  },
  {
   "cell_type": "markdown",
   "metadata": {},
   "source": [
    "## nump. matrix\n",
    "\n",
    "Devuelve una matriz de un objeto similar a una matriz o de una cadena de datos. Una matriz es una matriz 2-D especializada que conserva su naturaleza 2-D a través de las operaciones. Tiene ciertos operadores especiales, como * (multiplicación de matrices) y ** (potencia de matriz).\n",
    "\n",
    "fuente: https://docs.scipy.org/doc/numpy/reference/generated/numpy.matrix.html"
   ]
  },
  {
   "cell_type": "markdown",
   "metadata": {},
   "source": [
    "## numpy. ndarray\n",
    "\n",
    "\n",
    "Un objeto de matriz representa una matriz homogénea y multidimensional de elementos de tamaño fijo. Un objeto de tipo de datos asociado describe el formato de cada elemento de la matriz (su orden de bytes, la cantidad de bytes que ocupa en la memoria, si es un número entero, un número de punto flotante o algo más, etc.)\n",
    "\n",
    "fuente: https://docs.scipy.org/doc/numpy-1.14.0/reference/generated/numpy.ndarray.html"
   ]
  },
  {
   "cell_type": "code",
   "execution_count": 1,
   "metadata": {},
   "outputs": [],
   "source": [
    "import numpy as np"
   ]
  },
  {
   "cell_type": "code",
   "execution_count": 2,
   "metadata": {},
   "outputs": [
    {
     "name": "stdout",
     "output_type": "stream",
     "text": [
      "[[4 3 8]\n",
      " [7 5 6]]\n"
     ]
    }
   ],
   "source": [
    "# Para este ejemplo se utilizo la siguente linea de código \n",
    "\n",
    "a = np.matrix('4 3 8; 7 5 6')\n",
    "print(a)"
   ]
  },
  {
   "cell_type": "markdown",
   "metadata": {},
   "source": [
    "Se observa que la instrucción para *np.matrix* resulta en escribir por linea la matriz que se necesita, separando las filas por \";\""
   ]
  },
  {
   "cell_type": "code",
   "execution_count": 6,
   "metadata": {},
   "outputs": [
    {
     "data": {
      "text/plain": [
       "array([[-116977168,    7012457,    6881378],\n",
       "       [        85,    6619252,    6029422],\n",
       "       [   7143516,    6029432,    3539064]])"
      ]
     },
     "execution_count": 6,
     "metadata": {},
     "output_type": "execute_result"
    }
   ],
   "source": [
    " np.ndarray(shape=(3,3), dtype=int, order='F')"
   ]
  },
  {
   "cell_type": "markdown",
   "metadata": {},
   "source": [
    "Como se observa la función np. ndarray puede servir para generar una matrix de dimensión nxm (sin restricciones) que que introduzca valores aleatorios ya sea de entero  o con decimales."
   ]
  }
 ],
 "metadata": {
  "kernelspec": {
   "display_name": "Python 3",
   "language": "python",
   "name": "python3"
  },
  "language_info": {
   "codemirror_mode": {
    "name": "ipython",
    "version": 3
   },
   "file_extension": ".py",
   "mimetype": "text/x-python",
   "name": "python",
   "nbconvert_exporter": "python",
   "pygments_lexer": "ipython3",
   "version": "3.7.1"
  }
 },
 "nbformat": 4,
 "nbformat_minor": 2
}
