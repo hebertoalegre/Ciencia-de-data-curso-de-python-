{
 "cells": [
  {
   "cell_type": "markdown",
   "metadata": {},
   "source": [
    "# Tarea #2\n",
    "\n",
    "* Heberto José Alegre\n",
    "* Ciencia de Datos en Pyton\n",
    "\n"
   ]
  },
  {
   "cell_type": "markdown",
   "metadata": {},
   "source": [
    "- Que es proyección vectorial?\n",
    "\n",
    "La proyeccion´ de un vector sobre un plano resulta ser “otro vector”, contenido en el plano, tal que su origen es la proyeccion´ del origen, y cuyo extremo es la proyeccion´ del extremo. El resultado es una magnitud vectorial. La proyeccion´ puede realizarse segun´ cualquier direccion. ´ Si esta direccion´ es ortogonal al plano sobre el que se proyecta, se cumple que:\n",
    "\n",
    "\\begin{equation*}\n",
    "\\|proyec \\pi ~ a\\|= \\| \\hat{a}\\|cos\\alpha\n",
    "\\end{equation*}\n",
    "\n",
    "\n",
    "* fuente:http://www.vc.ehu.es/ingme/vec.pdf"
   ]
  },
  {
   "cell_type": "markdown",
   "metadata": {},
   "source": [
    "-Definir una ufunc para calcular proyección vectorial sobre vectores de Numpy"
   ]
  },
  {
   "cell_type": "code",
   "execution_count": 3,
   "metadata": {},
   "outputs": [
    {
     "name": "stdout",
     "output_type": "stream",
     "text": [
      "3.238302223935525\n"
     ]
    }
   ],
   "source": [
    "import numpy as np\n",
    "x=np.array([2,3,5])\n",
    "\n",
    "mag_x=np.linalg.norm(x)\n",
    "\n",
    "def pr(x):\n",
    "    return mag_x*np.cos(45)\n",
    "\n",
    "print(pr(x))"
   ]
  },
  {
   "cell_type": "markdown",
   "metadata": {},
   "source": [
    "-Como interpretamos la proyección vectorial?\n",
    "\n",
    "Una aplicación básica de las proyecciones vectoriales, resulta en traslado de base de puntos y mejorar la interpretación de los mismos. (En la rotación Promax del análisis factorial se utilizá una rotación ortogonal, que permite establecer con mayor claridad los valores de los factores extraidos ya sea por máxima verosimilitud o por minimos cuadrados no ponderados. \n",
    "\n"
   ]
  }
 ],
 "metadata": {
  "kernelspec": {
   "display_name": "Python 3",
   "language": "python",
   "name": "python3"
  },
  "language_info": {
   "codemirror_mode": {
    "name": "ipython",
    "version": 3
   },
   "file_extension": ".py",
   "mimetype": "text/x-python",
   "name": "python",
   "nbconvert_exporter": "python",
   "pygments_lexer": "ipython3",
   "version": "3.7.1"
  }
 },
 "nbformat": 4,
 "nbformat_minor": 2
}
